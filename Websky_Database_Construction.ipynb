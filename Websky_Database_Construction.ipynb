{
  "cells": [
    {
      "cell_type": "markdown",
      "metadata": {
        "id": "bLyRtTIDXz_w"
      },
      "source": [
        "# Installs\n"
      ]
    },
    {
      "cell_type": "code",
      "execution_count": null,
      "metadata": {
        "colab": {
          "base_uri": "https://localhost:8080/"
        },
        "id": "Q3QUU0naXbGc",
        "outputId": "dbff42db-7db6-41ec-b9b0-71fc37d0b62b"
      },
      "outputs": [
        {
          "name": "stdout",
          "output_type": "stream",
          "text": [
            "Looking in indexes: https://pypi.org/simple, https://us-python.pkg.dev/colab-wheels/public/simple/\n",
            "Collecting git+https://github.com/msyriac/orphics\n",
            "  Cloning https://github.com/msyriac/orphics to /tmp/pip-req-build-xfd5du5n\n",
            "  Running command git clone -q https://github.com/msyriac/orphics /tmp/pip-req-build-xfd5du5n\n",
            "Building wheels for collected packages: orphics\n",
            "  Building wheel for orphics (setup.py) ... \u001b[?25l\u001b[?25hdone\n",
            "  Created wheel for orphics: filename=orphics-0.1-py3-none-any.whl size=120692 sha256=50547f66077a490ec6b737ec1fb67383e55025d5e8869fd1aac8c09c13f64574\n",
            "  Stored in directory: /tmp/pip-ephem-wheel-cache-1ki32t1p/wheels/d7/b0/b4/f0d6f3d04253bfc28b03735977866924aef4c76289416495fe\n",
            "Successfully built orphics\n",
            "Installing collected packages: orphics\n",
            "Successfully installed orphics-0.1\n"
          ]
        }
      ],
      "source": [
        "!pip install git+https://github.com/msyriac/orphics"
      ]
    },
    {
      "cell_type": "code",
      "execution_count": null,
      "metadata": {
        "colab": {
          "base_uri": "https://localhost:8080/"
        },
        "id": "t3qQJUTZXuH1",
        "outputId": "8c5d83f0-f3ce-42c9-c052-13688796a0c1"
      },
      "outputs": [
        {
          "name": "stdout",
          "output_type": "stream",
          "text": [
            "Looking in indexes: https://pypi.org/simple, https://us-python.pkg.dev/colab-wheels/public/simple/\n",
            "Collecting healpy\n",
            "  Downloading healpy-1.16.1-cp37-cp37m-manylinux_2_17_x86_64.manylinux2014_x86_64.whl (23.7 MB)\n",
            "\u001b[K     |████████████████████████████████| 23.7 MB 470 kB/s \n",
            "\u001b[?25hRequirement already satisfied: numpy>=1.13 in /usr/local/lib/python3.7/dist-packages (from healpy) (1.21.6)\n",
            "Requirement already satisfied: scipy in /usr/local/lib/python3.7/dist-packages (from healpy) (1.7.3)\n",
            "Requirement already satisfied: matplotlib in /usr/local/lib/python3.7/dist-packages (from healpy) (3.2.2)\n",
            "Requirement already satisfied: astropy in /usr/local/lib/python3.7/dist-packages (from healpy) (4.3.1)\n",
            "Requirement already satisfied: pyerfa>=1.7.3 in /usr/local/lib/python3.7/dist-packages (from astropy->healpy) (2.0.0.1)\n",
            "Requirement already satisfied: importlib-metadata in /usr/local/lib/python3.7/dist-packages (from astropy->healpy) (4.12.0)\n",
            "Requirement already satisfied: typing-extensions>=3.6.4 in /usr/local/lib/python3.7/dist-packages (from importlib-metadata->astropy->healpy) (4.1.1)\n",
            "Requirement already satisfied: zipp>=0.5 in /usr/local/lib/python3.7/dist-packages (from importlib-metadata->astropy->healpy) (3.8.1)\n",
            "Requirement already satisfied: cycler>=0.10 in /usr/local/lib/python3.7/dist-packages (from matplotlib->healpy) (0.11.0)\n",
            "Requirement already satisfied: python-dateutil>=2.1 in /usr/local/lib/python3.7/dist-packages (from matplotlib->healpy) (2.8.2)\n",
            "Requirement already satisfied: kiwisolver>=1.0.1 in /usr/local/lib/python3.7/dist-packages (from matplotlib->healpy) (1.4.4)\n",
            "Requirement already satisfied: pyparsing!=2.0.4,!=2.1.2,!=2.1.6,>=2.0.1 in /usr/local/lib/python3.7/dist-packages (from matplotlib->healpy) (3.0.9)\n",
            "Requirement already satisfied: six>=1.5 in /usr/local/lib/python3.7/dist-packages (from python-dateutil>=2.1->matplotlib->healpy) (1.15.0)\n",
            "Installing collected packages: healpy\n",
            "Successfully installed healpy-1.16.1\n"
          ]
        }
      ],
      "source": [
        "pip install healpy"
      ]
    },
    {
      "cell_type": "code",
      "execution_count": null,
      "metadata": {
        "colab": {
          "base_uri": "https://localhost:8080/"
        },
        "id": "76CW0OnHXwE9",
        "outputId": "61de7695-22cc-42dc-a808-bf579e4c8a59"
      },
      "outputs": [
        {
          "name": "stdout",
          "output_type": "stream",
          "text": [
            "Looking in indexes: https://pypi.org/simple, https://us-python.pkg.dev/colab-wheels/public/simple/\n",
            "Collecting pyfisher\n",
            "  Downloading pyfisher-2.1.0-py2.py3-none-any.whl (5.7 MB)\n",
            "\u001b[K     |████████████████████████████████| 5.7 MB 28.2 MB/s \n",
            "\u001b[?25hRequirement already satisfied: numpy in /usr/local/lib/python3.7/dist-packages (from pyfisher) (1.21.6)\n",
            "Collecting camb\n",
            "  Downloading camb-1.3.6.tar.gz (1.7 MB)\n",
            "\u001b[K     |████████████████████████████████| 1.7 MB 51.6 MB/s \n",
            "\u001b[?25hCollecting chainconsumer\n",
            "  Downloading ChainConsumer-0.34.0.tar.gz (43 kB)\n",
            "\u001b[K     |████████████████████████████████| 43 kB 2.3 MB/s \n",
            "\u001b[?25hRequirement already satisfied: scipy in /usr/local/lib/python3.7/dist-packages (from pyfisher) (1.7.3)\n",
            "Requirement already satisfied: matplotlib in /usr/local/lib/python3.7/dist-packages (from pyfisher) (3.2.2)\n",
            "Requirement already satisfied: pandas in /usr/local/lib/python3.7/dist-packages (from pyfisher) (1.3.5)\n",
            "Requirement already satisfied: sympy>=1.0 in /usr/local/lib/python3.7/dist-packages (from camb->pyfisher) (1.7.1)\n",
            "Requirement already satisfied: mpmath>=0.19 in /usr/local/lib/python3.7/dist-packages (from sympy>=1.0->camb->pyfisher) (1.2.1)\n",
            "Requirement already satisfied: statsmodels>=0.7.0 in /usr/local/lib/python3.7/dist-packages (from chainconsumer->pyfisher) (0.12.2)\n",
            "Requirement already satisfied: python-dateutil>=2.1 in /usr/local/lib/python3.7/dist-packages (from matplotlib->pyfisher) (2.8.2)\n",
            "Requirement already satisfied: pyparsing!=2.0.4,!=2.1.2,!=2.1.6,>=2.0.1 in /usr/local/lib/python3.7/dist-packages (from matplotlib->pyfisher) (3.0.9)\n",
            "Requirement already satisfied: kiwisolver>=1.0.1 in /usr/local/lib/python3.7/dist-packages (from matplotlib->pyfisher) (1.4.4)\n",
            "Requirement already satisfied: cycler>=0.10 in /usr/local/lib/python3.7/dist-packages (from matplotlib->pyfisher) (0.11.0)\n",
            "Requirement already satisfied: typing-extensions in /usr/local/lib/python3.7/dist-packages (from kiwisolver>=1.0.1->matplotlib->pyfisher) (4.1.1)\n",
            "Requirement already satisfied: six>=1.5 in /usr/local/lib/python3.7/dist-packages (from python-dateutil>=2.1->matplotlib->pyfisher) (1.15.0)\n",
            "Requirement already satisfied: patsy>=0.5 in /usr/local/lib/python3.7/dist-packages (from statsmodels>=0.7.0->chainconsumer->pyfisher) (0.5.2)\n",
            "Requirement already satisfied: pytz>=2017.3 in /usr/local/lib/python3.7/dist-packages (from pandas->pyfisher) (2022.2.1)\n",
            "Building wheels for collected packages: camb, chainconsumer\n",
            "  Building wheel for camb (setup.py) ... \u001b[?25l\u001b[?25hdone\n",
            "  Created wheel for camb: filename=camb-1.3.6-py3-none-any.whl size=1044376 sha256=a7d610d95eb5be98b76071c24e8593d5530b9ecf323008b92cb1a13b6b94089d\n",
            "  Stored in directory: /root/.cache/pip/wheels/c9/76/04/75619eee19c9e79112912a0548350ca594a64266277a7eb2da\n",
            "  Building wheel for chainconsumer (setup.py) ... \u001b[?25l\u001b[?25hdone\n",
            "  Created wheel for chainconsumer: filename=ChainConsumer-0.34.0-py3-none-any.whl size=42779 sha256=a265b249ba4a002ba0cf76cc311334d91482d5a1a0ecfbfcd0a10e553c26e953\n",
            "  Stored in directory: /root/.cache/pip/wheels/2d/e5/6c/c9b963aa8bafc25991c7ce2902ca81be7256746be0349137cf\n",
            "Successfully built camb chainconsumer\n",
            "Installing collected packages: chainconsumer, camb, pyfisher\n",
            "Successfully installed camb-1.3.6 chainconsumer-0.34.0 pyfisher-2.1.0\n"
          ]
        }
      ],
      "source": [
        "pip install pyfisher"
      ]
    },
    {
      "cell_type": "code",
      "execution_count": null,
      "metadata": {
        "colab": {
          "base_uri": "https://localhost:8080/"
        },
        "id": "7MQQNJ1XXyOT",
        "outputId": "acd1cde6-ef85-4adc-9db9-1fb1615d0867"
      },
      "outputs": [
        {
          "name": "stdout",
          "output_type": "stream",
          "text": [
            "Looking in indexes: https://pypi.org/simple, https://us-python.pkg.dev/colab-wheels/public/simple/\n",
            "Collecting pixell\n",
            "  Downloading pixell-0.16.0-cp37-cp37m-manylinux_2_17_x86_64.manylinux2014_x86_64.whl (10.6 MB)\n",
            "\u001b[K     |████████████████████████████████| 10.6 MB 29.4 MB/s \n",
            "\u001b[?25hRequirement already satisfied: scipy>=1.0 in /usr/local/lib/python3.7/dist-packages (from pixell) (1.7.3)\n",
            "Requirement already satisfied: Pillow>=5.3.0 in /usr/local/lib/python3.7/dist-packages (from pixell) (7.1.2)\n",
            "Requirement already satisfied: h5py>=2.7 in /usr/local/lib/python3.7/dist-packages (from pixell) (3.1.0)\n",
            "Collecting pytest>=4.6\n",
            "  Downloading pytest-7.1.3-py3-none-any.whl (298 kB)\n",
            "\u001b[K     |████████████████████████████████| 298 kB 75.2 MB/s \n",
            "\u001b[?25hRequirement already satisfied: python-dateutil>=2.7 in /usr/local/lib/python3.7/dist-packages (from pixell) (2.8.2)\n",
            "Requirement already satisfied: setuptools>=39 in /usr/local/lib/python3.7/dist-packages (from pixell) (57.4.0)\n",
            "Requirement already satisfied: numpy>=1.20.0 in /usr/local/lib/python3.7/dist-packages (from pixell) (1.21.6)\n",
            "Requirement already satisfied: pyyaml>=5.0 in /usr/local/lib/python3.7/dist-packages (from pixell) (6.0)\n",
            "Requirement already satisfied: cython>=0.28 in /usr/local/lib/python3.7/dist-packages (from pixell) (0.29.32)\n",
            "Requirement already satisfied: healpy>=1.13 in /usr/local/lib/python3.7/dist-packages (from pixell) (1.16.1)\n",
            "Collecting pytest-cov>=2.6\n",
            "  Downloading pytest_cov-3.0.0-py3-none-any.whl (20 kB)\n",
            "Requirement already satisfied: matplotlib>=2.0 in /usr/local/lib/python3.7/dist-packages (from pixell) (3.2.2)\n",
            "Requirement already satisfied: astropy>=2.0 in /usr/local/lib/python3.7/dist-packages (from pixell) (4.3.1)\n",
            "Collecting coveralls>=1.5\n",
            "  Downloading coveralls-3.3.1-py2.py3-none-any.whl (14 kB)\n",
            "Requirement already satisfied: importlib-metadata in /usr/local/lib/python3.7/dist-packages (from astropy>=2.0->pixell) (4.12.0)\n",
            "Requirement already satisfied: pyerfa>=1.7.3 in /usr/local/lib/python3.7/dist-packages (from astropy>=2.0->pixell) (2.0.0.1)\n",
            "Collecting docopt>=0.6.1\n",
            "  Downloading docopt-0.6.2.tar.gz (25 kB)\n",
            "Requirement already satisfied: requests>=1.0.0 in /usr/local/lib/python3.7/dist-packages (from coveralls>=1.5->pixell) (2.23.0)\n",
            "Collecting coverage!=6.0.*,!=6.1,!=6.1.1,<7.0,>=4.1\n",
            "  Downloading coverage-6.4.4-cp37-cp37m-manylinux_2_5_x86_64.manylinux1_x86_64.manylinux_2_17_x86_64.manylinux2014_x86_64.whl (209 kB)\n",
            "\u001b[K     |████████████████████████████████| 209 kB 63.1 MB/s \n",
            "\u001b[?25hRequirement already satisfied: cached-property in /usr/local/lib/python3.7/dist-packages (from h5py>=2.7->pixell) (1.5.2)\n",
            "Requirement already satisfied: pyparsing!=2.0.4,!=2.1.2,!=2.1.6,>=2.0.1 in /usr/local/lib/python3.7/dist-packages (from matplotlib>=2.0->pixell) (3.0.9)\n",
            "Requirement already satisfied: cycler>=0.10 in /usr/local/lib/python3.7/dist-packages (from matplotlib>=2.0->pixell) (0.11.0)\n",
            "Requirement already satisfied: kiwisolver>=1.0.1 in /usr/local/lib/python3.7/dist-packages (from matplotlib>=2.0->pixell) (1.4.4)\n",
            "Requirement already satisfied: typing-extensions in /usr/local/lib/python3.7/dist-packages (from kiwisolver>=1.0.1->matplotlib>=2.0->pixell) (4.1.1)\n",
            "Requirement already satisfied: py>=1.8.2 in /usr/local/lib/python3.7/dist-packages (from pytest>=4.6->pixell) (1.11.0)\n",
            "Collecting pluggy<2.0,>=0.12\n",
            "  Downloading pluggy-1.0.0-py2.py3-none-any.whl (13 kB)\n",
            "Collecting iniconfig\n",
            "  Downloading iniconfig-1.1.1-py2.py3-none-any.whl (5.0 kB)\n",
            "Requirement already satisfied: tomli>=1.0.0 in /usr/local/lib/python3.7/dist-packages (from pytest>=4.6->pixell) (2.0.1)\n",
            "Requirement already satisfied: attrs>=19.2.0 in /usr/local/lib/python3.7/dist-packages (from pytest>=4.6->pixell) (22.1.0)\n",
            "Requirement already satisfied: packaging in /usr/local/lib/python3.7/dist-packages (from pytest>=4.6->pixell) (21.3)\n",
            "Requirement already satisfied: zipp>=0.5 in /usr/local/lib/python3.7/dist-packages (from importlib-metadata->astropy>=2.0->pixell) (3.8.1)\n",
            "Requirement already satisfied: six>=1.5 in /usr/local/lib/python3.7/dist-packages (from python-dateutil>=2.7->pixell) (1.15.0)\n",
            "Requirement already satisfied: chardet<4,>=3.0.2 in /usr/local/lib/python3.7/dist-packages (from requests>=1.0.0->coveralls>=1.5->pixell) (3.0.4)\n",
            "Requirement already satisfied: idna<3,>=2.5 in /usr/local/lib/python3.7/dist-packages (from requests>=1.0.0->coveralls>=1.5->pixell) (2.10)\n",
            "Requirement already satisfied: urllib3!=1.25.0,!=1.25.1,<1.26,>=1.21.1 in /usr/local/lib/python3.7/dist-packages (from requests>=1.0.0->coveralls>=1.5->pixell) (1.24.3)\n",
            "Requirement already satisfied: certifi>=2017.4.17 in /usr/local/lib/python3.7/dist-packages (from requests>=1.0.0->coveralls>=1.5->pixell) (2022.6.15)\n",
            "Building wheels for collected packages: docopt\n",
            "  Building wheel for docopt (setup.py) ... \u001b[?25l\u001b[?25hdone\n",
            "  Created wheel for docopt: filename=docopt-0.6.2-py2.py3-none-any.whl size=13723 sha256=f8c980bb73793a5a058f8303a89b6169bd607d83b89599f779f8f6a9385f3e9c\n",
            "  Stored in directory: /root/.cache/pip/wheels/72/b0/3f/1d95f96ff986c7dfffe46ce2be4062f38ebd04b506c77c81b9\n",
            "Successfully built docopt\n",
            "Installing collected packages: pluggy, iniconfig, coverage, pytest, docopt, pytest-cov, coveralls, pixell\n",
            "  Attempting uninstall: pluggy\n",
            "    Found existing installation: pluggy 0.7.1\n",
            "    Uninstalling pluggy-0.7.1:\n",
            "      Successfully uninstalled pluggy-0.7.1\n",
            "  Attempting uninstall: pytest\n",
            "    Found existing installation: pytest 3.6.4\n",
            "    Uninstalling pytest-3.6.4:\n",
            "      Successfully uninstalled pytest-3.6.4\n",
            "Successfully installed coverage-6.4.4 coveralls-3.3.1 docopt-0.6.2 iniconfig-1.1.1 pixell-0.16.0 pluggy-1.0.0 pytest-7.1.3 pytest-cov-3.0.0\n"
          ]
        }
      ],
      "source": [
        "pip install pixell"
      ]
    },
    {
      "cell_type": "code",
      "execution_count": null,
      "metadata": {
        "colab": {
          "base_uri": "https://localhost:8080/"
        },
        "id": "E5Ghbo6gMg79",
        "outputId": "f94604c9-68da-4c11-9e36-6b7641cf7863"
      },
      "outputs": [
        {
          "name": "stdout",
          "output_type": "stream",
          "text": [
            "Cloning into 'enlib'...\n",
            "remote: Enumerating objects: 5064, done.\u001b[K\n",
            "remote: Counting objects: 100% (220/220), done.\u001b[K\n",
            "remote: Compressing objects: 100% (145/145), done.\u001b[K\n",
            "remote: Total 5064 (delta 122), reused 154 (delta 72), pack-reused 4844\u001b[K\n",
            "Receiving objects: 100% (5064/5064), 2.50 MiB | 23.30 MiB/s, done.\n",
            "Resolving deltas: 100% (3445/3445), done.\n"
          ]
        }
      ],
      "source": [
        "!git clone https://github.com/amaurea/enlib"
      ]
    },
    {
      "cell_type": "code",
      "execution_count": null,
      "metadata": {
        "id": "Gg6g2EKfXkid"
      },
      "outputs": [],
      "source": [
        "import healpy as hp\n",
        "from pixell import enmap, utils, curvedsky, enplot, reproject\n",
        "import numpy as np\n",
        "import os\n",
        "from scipy.interpolate import interp1d\n",
        "import matplotlib.pyplot as plt\n",
        "from orphics import maps, cosmology\n",
        "\n",
        "%matplotlib inline\n",
        "%load_ext autoreload\n",
        "%autoreload 2"
      ]
    },
    {
      "cell_type": "markdown",
      "metadata": {
        "id": "wDruA-ZvX4W4"
      },
      "source": [
        "# Define Dirs"
      ]
    },
    {
      "cell_type": "code",
      "execution_count": null,
      "metadata": {
        "id": "NC36SoIjXice"
      },
      "outputs": [],
      "source": [
        "websky_dir = \"/content/drive/My Drive/websky/\"\n",
        "websky_path = lambda x: os.path.join(websky_dir, x)\n",
        "shape, wcs = enmap.fullsky_geometry(res=1*utils.arcmin)"
      ]
    },
    {
      "cell_type": "markdown",
      "metadata": {
        "id": "4fLKKNTEYT_V"
      },
      "source": [
        "# Only Run Once"
      ]
    },
    {
      "cell_type": "code",
      "execution_count": null,
      "metadata": {
        "colab": {
          "base_uri": "https://localhost:8080/"
        },
        "id": "ehKxfK5BX7mZ",
        "outputId": "e6ed6366-5772-4f74-ec02-f264c104755f"
      },
      "outputs": [
        {
          "name": "stdout",
          "output_type": "stream",
          "text": [
            "/content/drive/My Drive/websky/lensed_alm.fits\n"
          ]
        }
      ],
      "source": [
        "#%%script false --no-raise-error\n",
        "## This only needs to be done once ..\n",
        "## convert healpix map to CAR formated map\n",
        "\n",
        "lmax = 8000\n",
        "\n",
        "file_name = \"lensed_alm{}.fits\"\n",
        "file_path = websky_path(file_name.format(\"\"))\n",
        "print(file_path)\n",
        "imap = hp.read_alm(file_path).astype(np.complex128)\n",
        "omap = curvedsky.alm2map(imap, enmap.zeros(shape, wcs)).astype(np.float32)\n",
        "enmap.write_map(websky_path(\"lensed_car.fits\"), omap)"
      ]
    },
    {
      "cell_type": "code",
      "execution_count": null,
      "metadata": {
        "id": "pug1elgUZlPT"
      },
      "outputs": [],
      "source": [
        "del imap, omap"
      ]
    },
    {
      "cell_type": "code",
      "execution_count": null,
      "metadata": {
        "id": "3QeJb_JrZwfE"
      },
      "outputs": [],
      "source": [
        "shape, wcs = enmap.fullsky_geometry(res=1*utils.arcmin)\n",
        "for file_name in [\"kap{}.fits\", \"ksz{}.fits\", \"tsz{}.fits\"]:\n",
        "    file_path = websky_path(file_name.format(\"\"))\n",
        "    imap = hp.read_map(file_path)\n",
        "    omap = reproject.enmap_from_healpix(imap, shape, wcs, rot=None, lmax=lmax).astype(np.float32)\n",
        "    enmap.write_map(websky_path(file_name.format(\"_car\")), omap[0])\n",
        "    del imap, omap"
      ]
    },
    {
      "cell_type": "code",
      "execution_count": null,
      "metadata": {
        "colab": {
          "base_uri": "https://localhost:8080/"
        },
        "id": "opWDz7yubxEW",
        "outputId": "dd9635fb-7558-4637-d464-f724045cec69"
      },
      "outputs": [
        {
          "name": "stdout",
          "output_type": "stream",
          "text": [
            "Preparing SHT\n",
            "T -> alm\n",
            "float64 complex128\n",
            "Projecting\n"
          ]
        }
      ],
      "source": [
        "file_name = \"tsz_4096{}.fits\"\n",
        "file_path = websky_path(file_name.format(\"\"))\n",
        "imap = hp.read_map(file_path)\n",
        "omap = reproject.enmap_from_healpix(imap, shape, wcs, rot=None, lmax=lmax).astype(np.float32)\n",
        "enmap.write_map(websky_path(file_name.format(\"_car\")), omap[0])\n",
        "del imap, omap"
      ]
    },
    {
      "cell_type": "markdown",
      "metadata": {
        "id": "4A7SDXJ9YW9j"
      },
      "source": [
        "# Borrowed Code"
      ]
    },
    {
      "cell_type": "code",
      "execution_count": null,
      "metadata": {
        "id": "Fn7vSG0mYVlf"
      },
      "outputs": [],
      "source": [
        "## borrowed code\n",
        "\n",
        "omegab = 0.049\n",
        "### cosmology\n",
        "omegac = 0.261\n",
        "omegam = omegab + omegac\n",
        "h      = 0.68\n",
        "ns     = 0.965\n",
        "sigma8 = 0.81\n",
        "\n",
        "c = 3e5\n",
        "\n",
        "H0 = 100*h\n",
        "nz = 100000\n",
        "z1 = 0.0\n",
        "z2 = 6.0\n",
        "za = np.linspace(z1,z2,nz)\n",
        "dz = za[1]-za[0]\n",
        "\n",
        "H      = lambda z: H0*np.sqrt(omegam*(1+z)**3+1-omegam)\n",
        "dchidz = lambda z: c/H(z)\n",
        "\n",
        "chia = np.cumsum(dchidz(za))*dz\n",
        "\n",
        "zofchi = interp1d(chia,za)\n",
        "rho = 2.775e11*omegam*h**2 # Msun/Mpc^3\n",
        "\n",
        "\n",
        "## let's project some sources\n",
        "f = open(websky_path('halos.pksc'))\n",
        "N=np.fromfile(f,count=3,dtype=np.int32)[0]\n",
        "\n",
        "# only take first five entries for testing (there are ~8e8 halos total...)\n",
        "# comment the following line to read in all halos\n",
        "N = 5000000\n",
        "\n",
        "catalog=np.fromfile(f,count=N*10,dtype=np.float32)\n",
        "catalog=np.reshape(catalog,(N,10))\n",
        "\n",
        "x  = catalog[:,0];  y = catalog[:,1];  z = catalog[:,2] # Mpc (comoving)\n",
        "vx = catalog[:,3]; vy = catalog[:,4]; vz = catalog[:,5] # km/sec\n",
        "R  = catalog[:,6] # Mpc\n",
        "\n",
        "# convert to mass, comoving distance, radial velocity, redshfit, RA and DEc\n",
        "M200m    = 4*np.pi/3.*rho*R**3        # this is M200m (mean density 200 times critical density of universe) in Msun\n",
        "chi      = np.sqrt(x**2+y**2+z**2)    # Mpc\n",
        "vrad     = (x*vx + y*vy + z*vz) / chi # km/sec\n",
        "redshift = zofchi(chi)      \n",
        "\n",
        "# convert 3-d positions of points to angles on the sphere\n",
        "ra, dec  = hp.vec2ang(np.column_stack((x,y,z)),lonlat=True) # in radians\n",
        "dec *= utils.degree\n",
        "ra *= utils.degree"
      ]
    },
    {
      "cell_type": "markdown",
      "metadata": {
        "id": "j0Xa1CjAsmjZ"
      },
      "source": [
        "# Collect Maps"
      ]
    },
    {
      "cell_type": "code",
      "execution_count": null,
      "metadata": {
        "id": "4xbsK7BiYdW3"
      },
      "outputs": [],
      "source": [
        "cmb = enmap.read_map(websky_path(\"lensed_car.fits\"))\n",
        "kap = enmap.read_map(websky_path(\"kap_car.fits\"))\n",
        "ksz = enmap.read_map(websky_path(\"ksz_car.fits\"))\n",
        "tsz = enmap.read_map(websky_path(\"tsz_4096_car.fits\"))"
      ]
    },
    {
      "cell_type": "markdown",
      "metadata": {
        "id": "RSK9JeKfvtWG"
      },
      "source": [
        "# Build Datasets"
      ]
    },
    {
      "cell_type": "markdown",
      "metadata": {
        "id": "EZaIyuUZbEGe"
      },
      "source": [
        "### CMB and Noised CMB"
      ]
    },
    {
      "cell_type": "code",
      "execution_count": null,
      "metadata": {
        "colab": {
          "background_save": true,
          "base_uri": "https://localhost:8080/"
        },
        "id": "5F0KZoxruk6e",
        "outputId": "93a3d920-7db2-4892-a927-64b8b9b8eabd"
      },
      "outputs": [
        {
          "name": "stdout",
          "output_type": "stream",
          "text": [
            "0\n",
            "5000\n",
            "10000\n",
            "15000\n",
            "20000\n",
            "25000\n",
            "30000\n",
            "35000\n",
            "40000\n",
            "45000\n"
          ]
        }
      ],
      "source": [
        "# Define Geometry\n",
        "width_arcmin = 256\n",
        "px_res_arcmin = 2\n",
        "shape = int(width_arcmin/px_res_arcmin)\n",
        "oshape, owcs = maps.rect_geometry(width_arcmin=width_arcmin, px_res_arcmin=px_res_arcmin)\n",
        "\n",
        "# Initialize Maps\n",
        "dataset_size = 10000\n",
        "cmb_maps = np.zeros((dataset_size, shape, shape))\n",
        "kappa_maps = np.zeros((dataset_size, shape, shape))\n",
        "noised_maps = np.zeros((dataset_size, shape, shape))\n",
        "\n",
        "counter = 0\n",
        "for i in range(0, N):\n",
        "    if 1e13 <= M200m[i] <= 5e14:\n",
        "        if 0.47 <= redshift[i] <= 0.6:\n",
        "            if counter >= dataset_size: break\n",
        "            if counter % 10000 == 0: print(counter)\n",
        "\n",
        "            # Kappa and CMB\n",
        "            kappa_maps[counter, :, :] = reproject.thumbnails(kap, np.array([dec[i], ra[i]]), r=width_arcmin*utils.arcmin/2,res=px_res_arcmin*utils.arcmin, oshape=oshape, owcs=owcs)\n",
        "            cmb_maps[counter, :, :] = reproject.thumbnails(cmb, np.array([dec[i], ra[i]]), r=width_arcmin*utils.arcmin/2,res=px_res_arcmin*utils.arcmin, oshape=oshape, owcs=owcs)\n",
        "\n",
        "            # Astrophysical Foregrounds\n",
        "            m1 = reproject.thumbnails(tsz, np.array([dec[i], ra[i]]), r=width_arcmin*utils.arcmin/2,res=px_res_arcmin*utils.arcmin, oshape=oshape, owcs=owcs)\n",
        "            m2 = reproject.thumbnails(ksz, np.array([dec[i], ra[i]]), r=width_arcmin*utils.arcmin/2,res=px_res_arcmin*utils.arcmin, oshape=oshape, owcs=owcs)\n",
        "\n",
        "            # Add together\n",
        "            noised_maps[counter, :, :] = m1 + m2 + cmb_maps[counter, :, :]\n",
        "\n",
        "            counter += 1"
      ]
    },
    {
      "cell_type": "code",
      "execution_count": null,
      "metadata": {
        "colab": {
          "background_save": true
        },
        "id": "N01OzMWNbSRr"
      },
      "outputs": [],
      "source": [
        "np.save(websky_dir + 'cmb256', cmb_maps)\n",
        "np.save(websky_dir + 'kap256', kappa_maps)\n",
        "np.save(websky_dir + 'noised256', noised_maps)"
      ]
    },
    {
      "cell_type": "markdown",
      "metadata": {
        "id": "IYrgkWy3bS6a"
      },
      "source": [
        "### Add White Noise "
      ]
    },
    {
      "cell_type": "code",
      "execution_count": null,
      "metadata": {
        "id": "Vl-fjh-cyUCG"
      },
      "outputs": [],
      "source": [
        "noised_maps = np.load(websky_dir + 'noised256.npy')"
      ]
    },
    {
      "cell_type": "code",
      "execution_count": null,
      "metadata": {
        "colab": {
          "background_save": true,
          "base_uri": "https://localhost:8080/"
        },
        "id": "JGp7GYd9bDWv",
        "outputId": "90514371-983c-42f2-9482-75ebac643037"
      },
      "outputs": [
        {
          "name": "stdout",
          "output_type": "stream",
          "text": [
            "0\n",
            "10000\n",
            "20000\n",
            "30000\n",
            "40000\n"
          ]
        }
      ],
      "source": [
        "# Define Geometry\n",
        "width_arcmin = 128\n",
        "px_res_arcmin = 1\n",
        "shape = int(width_arcmin/px_res_arcmin)\n",
        "oshape, owcs = maps.rect_geometry(width_arcmin=width_arcmin, px_res_arcmin=px_res_arcmin)\n",
        "\n",
        "noised_maps_1uk = np.zeros(noised_maps.shape)\n",
        "noised_maps_5uk = np.zeros(noised_maps.shape)\n",
        "\n",
        "ell = np.arange(10000)\n",
        "nl = cosmology.white_noise_with_atm_func(ell, 1, 0, 0, dimensionless=False) # 1 uk/arcmin\n",
        "n5 = cosmology.white_noise_with_atm_func(ell, 5, 0, 0, dimensionless=False) # 5 uk/arcmin\n",
        "\n",
        "counter = 0\n",
        "for i in range(0, N):\n",
        "    if 1e13 <= M200m[i] <= 5e14:\n",
        "        if 0.47 <= redshift[i] <= 0.6:\n",
        "            if counter >= noised_maps.shape[0]: break\n",
        "            if counter % 10000 == 0: print(counter)\n",
        "            # Generate Noise Maps\n",
        "            white_noise_1uk = enmap.rand_map(oshape, owcs, nl)\n",
        "            white_noise_5uk = enmap.rand_map(oshape, owcs, n5)\n",
        "\n",
        "            # Combine\n",
        "            noised_maps_1uk[counter, :, :] = noised_maps[counter, :, :] + white_noise_1uk\n",
        "            noised_maps_5uk[counter, :, :] = noised_maps[counter, :, :] + white_noise_5uk\n",
        "            counter += 1"
      ]
    },
    {
      "cell_type": "code",
      "execution_count": null,
      "metadata": {
        "colab": {
          "background_save": true
        },
        "id": "FJ3Bfn0vwV5i"
      },
      "outputs": [],
      "source": [
        "np.save(websky_dir + 'noised_1uk256', noised_maps_1uk)\n",
        "np.save(websky_dir + 'noised_5uk256', noised_maps_5uk)"
      ]
    },
    {
      "cell_type": "markdown",
      "metadata": {
        "id": "APeXaPQaAqI1"
      },
      "source": [
        "### Uncentered Noised Maps"
      ]
    },
    {
      "cell_type": "code",
      "execution_count": null,
      "metadata": {
        "colab": {
          "background_save": true,
          "base_uri": "https://localhost:8080/"
        },
        "id": "dk452XNKAoXh",
        "outputId": "707a06bb-81a6-4d3f-bbf1-cde2d6dfe92c"
      },
      "outputs": [
        {
          "name": "stdout",
          "output_type": "stream",
          "text": [
            "0\n",
            "10000\n",
            "20000\n",
            "30000\n",
            "40000\n"
          ]
        }
      ],
      "source": [
        "width_arcmin = 128\n",
        "px_res_arcmin = 1\n",
        "shape = width_arcmin*px_res_arcmin\n",
        "\n",
        "oshape, owcs = maps.rect_geometry(width_arcmin=width_arcmin, px_res_arcmin=px_res_arcmin)\n",
        "\n",
        "dataset_size = 50000\n",
        "uncentered_maps = np.zeros((dataset_size, shape, shape))\n",
        "kappa_uncentered = np.zeros((dataset_size, shape, shape))\n",
        "\n",
        "counter = 0\n",
        "for i in range(0, N):\n",
        "    if 1e13 <= M200m[i] <= 5e14:\n",
        "        if 0.47 <= redshift[i] <= 0.6:\n",
        "            if counter >= dataset_size: break\n",
        "            if counter % 10000 == 0: print(counter)\n",
        "\n",
        "            # Off-centering\n",
        "            off_center = 0.17/60                                    # off-centering coefficient of 1 arcmin\n",
        "            dec_i = dec[i] + np.random.normal(0, 1)*off_center   # random Gaussian 0 mean 1 arcmin variance\n",
        "            ra_i = ra[i] + np.random.normal(0, 1)*off_center     # random Gaussian 0 mean 1 arcmin variance\n",
        "\n",
        "            # Healpix projection\n",
        "            uncentered_maps[counter, :, :] = reproject.thumbnails(cmb, np.array([dec_i, ra_i]), r=64*utils.arcmin,res=1*utils.arcmin, oshape=oshape, owcs=owcs)           \n",
        "            kappa_uncentered[counter, :, :] = reproject.thumbnails(kap, np.array([dec_i, ra_i]), r=64*utils.arcmin,res=1*utils.arcmin, oshape=oshape, owcs=owcs)\n",
        "            \n",
        "            counter += 1"
      ]
    },
    {
      "cell_type": "code",
      "execution_count": null,
      "metadata": {
        "id": "AqLHHrbuwcAh"
      },
      "outputs": [],
      "source": [
        "np.save(websky_dir + 'cmb_uncentered256', uncentered_maps)\n",
        "np.save(websky_dir + 'kap_uncentered256', kappa_uncentered)"
      ]
    }
  ],
  "metadata": {
    "colab": {
      "collapsed_sections": [
        "bLyRtTIDXz_w",
        "wDruA-ZvX4W4",
        "4fLKKNTEYT_V",
        "4A7SDXJ9YW9j",
        "j0Xa1CjAsmjZ",
        "msU2ay8bvqrb",
        "EZaIyuUZbEGe",
        "IYrgkWy3bS6a"
      ],
      "machine_shape": "hm",
      "provenance": []
    },
    "kernelspec": {
      "display_name": "Python 3",
      "name": "python3"
    },
    "language_info": {
      "name": "python"
    }
  },
  "nbformat": 4,
  "nbformat_minor": 0
}